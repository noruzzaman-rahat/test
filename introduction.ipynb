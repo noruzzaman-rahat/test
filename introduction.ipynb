{
  "nbformat": 4,
  "nbformat_minor": 0,
  "metadata": {
    "colab": {
      "provenance": [],
      "toc_visible": true,
      "authorship_tag": "ABX9TyP6mFoqyEhCzVDoDEbfN7+y",
      "include_colab_link": true
    },
    "kernelspec": {
      "name": "python3",
      "display_name": "Python 3"
    },
    "language_info": {
      "name": "python"
    }
  },
  "cells": [
    {
      "cell_type": "markdown",
      "metadata": {
        "id": "view-in-github",
        "colab_type": "text"
      },
      "source": [
        "<a href=\"https://colab.research.google.com/github/noruzzaman-rahat/test/blob/main/introduction.ipynb\" target=\"_parent\"><img src=\"https://colab.research.google.com/assets/colab-badge.svg\" alt=\"Open In Colab\"/></a>"
      ]
    },
    {
      "cell_type": "code",
      "execution_count": null,
      "metadata": {
        "id": "1wQKEvxEaNZX",
        "colab": {
          "base_uri": "https://localhost:8080/"
        },
        "outputId": "f38d5201-425c-4e71-9dc0-029ab02cb80e"
      },
      "outputs": [
        {
          "output_type": "stream",
          "name": "stdout",
          "text": [
            "welcome to mr rahat for your new journey\n"
          ]
        }
      ],
      "source": [
        "print('welcome to mr rahat for your new journey')"
      ]
    },
    {
      "cell_type": "code",
      "source": [
        "print('welcome to skill morph')"
      ],
      "metadata": {
        "id": "T-_Ooz1Lxs64",
        "outputId": "4a840a26-9bd2-40d9-db5b-dfe5f4e5c0db",
        "colab": {
          "base_uri": "https://localhost:8080/"
        }
      },
      "execution_count": 1,
      "outputs": [
        {
          "output_type": "stream",
          "name": "stdout",
          "text": [
            "welcome to skill morph\n"
          ]
        }
      ]
    },
    {
      "cell_type": "code",
      "source": [
        "23+65"
      ],
      "metadata": {
        "colab": {
          "base_uri": "https://localhost:8080/"
        },
        "id": "P54u_BqUcJca",
        "outputId": "97eeb839-aae6-4b00-a132-bc5a8ed968d7"
      },
      "execution_count": null,
      "outputs": [
        {
          "output_type": "execute_result",
          "data": {
            "text/plain": [
              "88"
            ]
          },
          "metadata": {},
          "execution_count": 2
        }
      ]
    },
    {
      "cell_type": "markdown",
      "source": [
        "# **Chapter-1**"
      ],
      "metadata": {
        "id": "sUEE5ByicQ4K"
      }
    },
    {
      "cell_type": "markdown",
      "source": [
        "## **sub chapter-1**"
      ],
      "metadata": {
        "id": "iqQ488l-c8f3"
      }
    },
    {
      "cell_type": "code",
      "source": [],
      "metadata": {
        "id": "0jpZLrDhdAST"
      },
      "execution_count": null,
      "outputs": []
    }
  ]
}