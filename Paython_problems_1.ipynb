{
  "nbformat": 4,
  "nbformat_minor": 0,
  "metadata": {
    "colab": {
      "provenance": [],
      "authorship_tag": "ABX9TyPEmmJS7PHux7c+Qsb6ARHA",
      "include_colab_link": true
    },
    "kernelspec": {
      "name": "python3",
      "display_name": "Python 3"
    },
    "language_info": {
      "name": "python"
    }
  },
  "cells": [
    {
      "cell_type": "markdown",
      "metadata": {
        "id": "view-in-github",
        "colab_type": "text"
      },
      "source": [
        "<a href=\"https://colab.research.google.com/github/noruzzaman-rahat/test/blob/main/Paython_problems_1.ipynb\" target=\"_parent\"><img src=\"https://colab.research.google.com/assets/colab-badge.svg\" alt=\"Open In Colab\"/></a>"
      ]
    },
    {
      "cell_type": "markdown",
      "source": [
        "# **problem**-2.1\n"
      ],
      "metadata": {
        "id": "LvJPVN15inj2"
      }
    },
    {
      "cell_type": "code",
      "source": [
        "# Creating variables\n",
        "name = \"Rahat\"\n",
        "age = 21\n",
        "favorite_color = \"Black\"\n",
        "\n",
        "# Printing with descriptive labels\n",
        "print(\"Name:\", name)\n",
        "print(\"Age:\", age)\n",
        "print(\"Favorite Color:\", favorite_color)\n"
      ],
      "metadata": {
        "colab": {
          "base_uri": "https://localhost:8080/"
        },
        "id": "73p95XAjjkBo",
        "outputId": "7e9acea4-9bb4-42ff-e4bc-828f600f6e81"
      },
      "execution_count": null,
      "outputs": [
        {
          "output_type": "stream",
          "name": "stdout",
          "text": [
            "Name: Rahat\n",
            "Age: 21\n",
            "Favorite Color: Black\n"
          ]
        }
      ]
    },
    {
      "cell_type": "markdown",
      "source": [
        "# **problem** -2.2"
      ],
      "metadata": {
        "id": "w4rrNHhUjvcn"
      }
    },
    {
      "cell_type": "code",
      "source": [
        "# 4Different variable types\n",
        "integer_var = 25          # int\n",
        "float_var = 12.5          # float\n",
        "string_var = \"Hello\"      # str\n",
        "boolean_var = True        # bool\n",
        "list_var = [1, 2, 3]      # list\n",
        "tuple_var = (4, 5, 6)     # tuple\n",
        "dict_var = {\"name\": \"Rahat\", \"age\": 21}  # dict\n",
        "set_var = {10, 20, 30}    # set\n",
        "\n",
        "# Printing types\n",
        "print(\"Type of integer_var:\", type(integer_var))\n",
        "print(\"Type of float_var:\", type(float_var))\n",
        "print(\"Type of string_var:\", type(string_var))\n",
        "print(\"Type of boolean_var:\", type(boolean_var))\n",
        "print(\"Type of list_var:\", type(list_var))\n",
        "print(\"Type of tuple_var:\", type(tuple_var))\n",
        "print(\"Type of dict_var:\", type(dict_var))\n",
        "print(\"Type of set_var:\", type(set_var))"
      ],
      "metadata": {
        "id": "r0TZ45H_kW1z",
        "outputId": "3685f461-98ad-4c77-cc8f-92ab7ef3ec50",
        "colab": {
          "base_uri": "https://localhost:8080/"
        }
      },
      "execution_count": null,
      "outputs": [
        {
          "output_type": "stream",
          "name": "stdout",
          "text": [
            "Type of integer_var: <class 'int'>\n",
            "Type of float_var: <class 'float'>\n",
            "Type of string_var: <class 'str'>\n",
            "Type of boolean_var: <class 'bool'>\n",
            "Type of list_var: <class 'list'>\n",
            "Type of tuple_var: <class 'tuple'>\n",
            "Type of dict_var: <class 'dict'>\n",
            "Type of set_var: <class 'set'>\n"
          ]
        }
      ]
    },
    {
      "cell_type": "markdown",
      "source": [],
      "metadata": {
        "id": "5cLWjy_yk6WV"
      }
    },
    {
      "cell_type": "markdown",
      "source": [
        "# **problem**-2.3"
      ],
      "metadata": {
        "id": "3bmbhKlpk_BI"
      }
    },
    {
      "cell_type": "code",
      "source": [
        "# Rectangle\n",
        "length = 7\n",
        "width = 5\n",
        "\n",
        "# Calculations\n",
        "area = length * width\n",
        "perimeter = 2 * (length + width)\n",
        "\n",
        "\n",
        "print(\"Length:\", length)\n",
        "print(\"Width:\", width)\n",
        "print(\"Area of Rectangle:\", area)\n",
        "print(\"Perimeter of Rectangle:\", perimeter)\n"
      ],
      "metadata": {
        "colab": {
          "base_uri": "https://localhost:8080/"
        },
        "id": "YD6iIuMFllP8",
        "outputId": "d4e3be29-398c-4d63-b581-52f2640dc1af"
      },
      "execution_count": null,
      "outputs": [
        {
          "output_type": "stream",
          "name": "stdout",
          "text": [
            "Length: 7\n",
            "Width: 5\n",
            "Area of Rectangle: 35\n",
            "Perimeter of Rectangle: 24\n"
          ]
        }
      ]
    },
    {
      "cell_type": "markdown",
      "source": [
        "# **problem** -2.4"
      ],
      "metadata": {
        "id": "SM5F-2nKmE_f"
      }
    },
    {
      "cell_type": "code",
      "source": [
        "foods = [\"Biriyani\", \"Hilsa Fish Curry\", \"Kacchi Biriyani\", \"Panta Ilish\", \"Rasgulla\"]\n",
        "\n",
        "print(\"First food:\", foods[0])\n",
        "print(\"Last food:\", foods[-1])\n"
      ],
      "metadata": {
        "colab": {
          "base_uri": "https://localhost:8080/"
        },
        "id": "lwHAeGCjm5gR",
        "outputId": "bd923f68-4bdb-4d7d-852f-4418efe0461a"
      },
      "execution_count": null,
      "outputs": [
        {
          "output_type": "stream",
          "name": "stdout",
          "text": [
            "First food: Biriyani\n",
            "Last food: Rasgulla\n"
          ]
        }
      ]
    },
    {
      "cell_type": "markdown",
      "source": [],
      "metadata": {
        "id": "nxNX20cAnD2a"
      }
    },
    {
      "cell_type": "markdown",
      "source": [
        "# problem **-2.5**"
      ],
      "metadata": {
        "id": "gq1KTj4EnIld"
      }
    },
    {
      "cell_type": "code",
      "source": [
        "numbers = [10, 5, 8, 20, 15]\n",
        "\n",
        "numbers.append(25)\n",
        "numbers.remove(8)\n",
        "numbers.sort()\n",
        "\n",
        "print(numbers)\n"
      ],
      "metadata": {
        "id": "Ik9MUxsaoGJs",
        "outputId": "5c744b15-60f4-4341-a03e-4b1e0728eb78",
        "colab": {
          "base_uri": "https://localhost:8080/"
        }
      },
      "execution_count": null,
      "outputs": [
        {
          "output_type": "stream",
          "name": "stdout",
          "text": [
            "[5, 10, 15, 20, 25]\n"
          ]
        }
      ]
    }
  ]
}